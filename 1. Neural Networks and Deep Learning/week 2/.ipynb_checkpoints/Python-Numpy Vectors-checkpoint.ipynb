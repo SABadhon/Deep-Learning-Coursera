{
 "cells": [
  {
   "cell_type": "code",
   "execution_count": 17,
   "metadata": {},
   "outputs": [
    {
     "name": "stdout",
     "output_type": "stream",
     "text": [
      "[0.84207714 0.75090557 0.7628384  0.11706913 0.68356642]\n"
     ]
    }
   ],
   "source": [
    "import numpy as np\n",
    "\n",
    "a = np.random.rand(5) # creates five random gaussian variables stored in array a\n",
    "print(a)"
   ]
  },
  {
   "cell_type": "code",
   "execution_count": 18,
   "metadata": {},
   "outputs": [
    {
     "name": "stdout",
     "output_type": "stream",
     "text": [
      "(5,)\n"
     ]
    }
   ],
   "source": [
    "print(a.shape)\n",
    "# rank 1 array  --> neither a column vector nor a row vector\n",
    "# dont use rank 1 array if you want to get rid of bugs"
   ]
  },
  {
   "cell_type": "code",
   "execution_count": 19,
   "metadata": {},
   "outputs": [
    {
     "name": "stdout",
     "output_type": "stream",
     "text": [
      "[0.84207714 0.75090557 0.7628384  0.11706913 0.68356642]\n"
     ]
    }
   ],
   "source": [
    "print(a.T)"
   ]
  },
  {
   "cell_type": "code",
   "execution_count": 21,
   "metadata": {},
   "outputs": [
    {
     "name": "stdout",
     "output_type": "stream",
     "text": [
      "2.335843744090313\n"
     ]
    }
   ],
   "source": [
    "print(np.dot(a,a.T))"
   ]
  },
  {
   "cell_type": "code",
   "execution_count": 5,
   "metadata": {},
   "outputs": [
    {
     "name": "stdout",
     "output_type": "stream",
     "text": [
      "[[0.15529077]\n",
      " [0.26091679]\n",
      " [0.0531428 ]\n",
      " [0.65208452]\n",
      " [0.07909925]]\n"
     ]
    }
   ],
   "source": [
    "# to get rid of this type of bugs use different data structure\n",
    "a = np.random.rand(5,1)\n",
    "print(a) # a 5X1 matrix"
   ]
  },
  {
   "cell_type": "code",
   "execution_count": 7,
   "metadata": {},
   "outputs": [
    {
     "name": "stdout",
     "output_type": "stream",
     "text": [
      "[[0.15529077 0.26091679 0.0531428  0.65208452 0.07909925]]\n"
     ]
    }
   ],
   "source": [
    "print(a.T)"
   ]
  },
  {
   "cell_type": "code",
   "execution_count": 8,
   "metadata": {},
   "outputs": [
    {
     "name": "stdout",
     "output_type": "stream",
     "text": [
      "[[0.02411522 0.04051797 0.00825259 0.10126271 0.01228338]\n",
      " [0.04051797 0.06807757 0.01386585 0.1701398  0.02063832]\n",
      " [0.00825259 0.01386585 0.00282416 0.0346536  0.00420356]\n",
      " [0.10126271 0.1701398  0.0346536  0.42521423 0.0515794 ]\n",
      " [0.01228338 0.02063832 0.00420356 0.0515794  0.00625669]]\n"
     ]
    }
   ],
   "source": [
    "print(a@a.T) # dot product --> np.dot(a,a.T)"
   ]
  },
  {
   "cell_type": "code",
   "execution_count": 24,
   "metadata": {},
   "outputs": [
    {
     "name": "stdout",
     "output_type": "stream",
     "text": [
      "[[0.14115702]\n",
      " [0.85727762]\n",
      " [0.78882476]\n",
      " [0.14260953]\n",
      " [0.27142102]]\n"
     ]
    }
   ],
   "source": [
    "b = np.random.rand(5)  # rank 1 array\n",
    "b = b.reshape((5,1)) # column vector\n",
    "print(b)"
   ]
  }
 ],
 "metadata": {
  "kernelspec": {
   "display_name": "Python 3",
   "language": "python",
   "name": "python3"
  },
  "language_info": {
   "codemirror_mode": {
    "name": "ipython",
    "version": 3
   },
   "file_extension": ".py",
   "mimetype": "text/x-python",
   "name": "python",
   "nbconvert_exporter": "python",
   "pygments_lexer": "ipython3",
   "version": "3.7.7"
  }
 },
 "nbformat": 4,
 "nbformat_minor": 4
}
